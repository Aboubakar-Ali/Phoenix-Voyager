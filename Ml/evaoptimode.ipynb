{
 "cells": [
  {
   "cell_type": "code",
   "execution_count": 3,
   "metadata": {},
   "outputs": [
    {
     "name": "stdout",
     "output_type": "stream",
     "text": [
      "Précision :  0.7988826815642458\n",
      "Rappel :  0.7567567567567568\n",
      "Score F1 :  0.7567567567567567\n",
      "AUC-ROC :  0.7926640926640927\n",
      "Matrice de confusion : \n",
      " [[87 18]\n",
      " [18 56]]\n"
     ]
    }
   ],
   "source": [
    "import pandas as pd\n",
    "from sklearn.model_selection import train_test_split\n",
    "from sklearn.linear_model import LogisticRegression\n",
    "from sklearn.metrics import accuracy_score, recall_score, f1_score, roc_auc_score, confusion_matrix\n",
    "import joblib\n",
    "\n",
    "\n",
    "df = pd.read_csv('preprocessed_data.csv')\n",
    "\n",
    "\n",
    "X = df[['Sex', 'Age', 'Pclass', 'Embarked']]\n",
    "y = df['Survived']\n",
    "\n",
    "\n",
    "X_train, X_test, y_train, y_test = train_test_split(X, y, test_size=0.2, random_state=42)\n",
    "\n",
    "\n",
    "logistic_regression = joblib.load('logistic_regression_model.pkl')\n",
    "\n",
    "\n",
    "y_pred = logistic_regression.predict(X_test)\n",
    "\n",
    "\n",
    "accuracy = accuracy_score(y_test, y_pred)\n",
    "recall = recall_score(y_test, y_pred)\n",
    "f1 = f1_score(y_test, y_pred)\n",
    "roc_auc = roc_auc_score(y_test, y_pred)\n",
    "\n",
    "print(\"Précision : \", accuracy)\n",
    "print(\"Rappel : \", recall)\n",
    "print(\"Score F1 : \", f1)\n",
    "print(\"AUC-ROC : \", roc_auc)\n",
    "\n",
    "\n",
    "confusion_mat = confusion_matrix(y_test, y_pred)\n",
    "print(\"Matrice de confusion : \\n\", confusion_mat)\n"
   ]
  },
  {
   "cell_type": "code",
   "execution_count": 12,
   "metadata": {},
   "outputs": [
    {
     "name": "stdout",
     "output_type": "stream",
     "text": [
      "Précision :  0.7597765363128491\n",
      "Rappel :  0.7027027027027027\n",
      "Score F1 :  0.7074829931972789\n",
      "AUC-ROC :  0.7513513513513514\n",
      "Matrice de confusion : \n",
      " [[84 21]\n",
      " [22 52]]\n"
     ]
    }
   ],
   "source": [
    "import pandas as pd\n",
    "from sklearn.model_selection import train_test_split\n",
    "from sklearn.metrics import accuracy_score, recall_score, f1_score, roc_auc_score, confusion_matrix\n",
    "import joblib\n",
    "\n",
    "\n",
    "df = pd.read_csv('preprocessed_data.csv')\n",
    "\n",
    "\n",
    "X = df[['Sex', 'Age', 'Pclass', 'Embarked']]  \n",
    "y = df['Survived']\n",
    "\n",
    "\n",
    "X_train, X_test, y_train, y_test = train_test_split(X, y, test_size=0.2, random_state=42)\n",
    "\n",
    "\n",
    "random_forest = joblib.load('random_forest_model.pkl')\n",
    "\n",
    "\n",
    "y_pred = random_forest.predict(X_test)\n",
    "\n",
    "\n",
    "accuracy = accuracy_score(y_test, y_pred)\n",
    "recall = recall_score(y_test, y_pred)\n",
    "f1 = f1_score(y_test, y_pred)\n",
    "roc_auc = roc_auc_score(y_test, y_pred)\n",
    "\n",
    "\n",
    "print(\"Précision : \", accuracy)\n",
    "print(\"Rappel : \", recall)\n",
    "print(\"Score F1 : \", f1)\n",
    "print(\"AUC-ROC : \", roc_auc)\n",
    "\n",
    "\n",
    "confusion_mat = confusion_matrix(y_test, y_pred)\n",
    "print(\"Matrice de confusion : \\n\", confusion_mat)\n"
   ]
  }
 ],
 "metadata": {
  "kernelspec": {
   "display_name": "Python 3",
   "language": "python",
   "name": "python3"
  },
  "language_info": {
   "codemirror_mode": {
    "name": "ipython",
    "version": 3
   },
   "file_extension": ".py",
   "mimetype": "text/x-python",
   "name": "python",
   "nbconvert_exporter": "python",
   "pygments_lexer": "ipython3",
   "version": "3.12.0"
  },
  "orig_nbformat": 4
 },
 "nbformat": 4,
 "nbformat_minor": 2
}
